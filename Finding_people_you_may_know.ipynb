{
 "cells": [
  {
   "cell_type": "code",
   "execution_count": 18,
   "id": "fb8b0fff-7f58-448c-b4c2-0d38fbcdb894",
   "metadata": {},
   "outputs": [],
   "source": [
    "import pandas as pd\n",
    "from collections import defaultdict"
   ]
  },
  {
   "cell_type": "code",
   "execution_count": 23,
   "id": "79756767-567a-432d-a742-09755388b436",
   "metadata": {},
   "outputs": [],
   "source": [
    "def find_people_you_may_know(user_id):\n",
    "    df = pd.read_excel(\"Massive_Data.xlsx\")\n",
    "    df1 = df[[\"id\", \"friends\"]]\n",
    "    df1[\"friends\"] = df1[\"friends\"].apply(lambda x: eval(x) if isinstance(x, str) else x)\n",
    "\n",
    "    if user_id not in df1[\"id\"].values:\n",
    "        return []\n",
    "\n",
    "    direct_friends = df1.loc[df1[\"id\"] == user_id, \"friends\"].values[0]\n",
    "    suggestions = defaultdict(int)\n",
    "\n",
    "    for friend in direct_friends:\n",
    "        if friend in df1[\"id\"].values:\n",
    "            friend_friends = df1.loc[df1[\"id\"] == friend, \"friends\"].values[0]\n",
    "            for mutual in friend_friends:\n",
    "                if mutual != user_id and mutual not in direct_friends:\n",
    "                    suggestions[mutual] += 1\n",
    "\n",
    "    sorted_suggestions = sorted(suggestions.items(), key=lambda x: x[1], reverse=True)\n",
    "    return sorted_suggestions\n",
    "    "
   ]
  },
  {
   "cell_type": "code",
   "execution_count": 27,
   "id": "e71cf4f4-9373-4275-9666-f04785d56b6f",
   "metadata": {},
   "outputs": [
    {
     "name": "stdout",
     "output_type": "stream",
     "text": [
      "----Mutual friends printed in the file successfully----\n"
     ]
    },
    {
     "name": "stderr",
     "output_type": "stream",
     "text": [
      "C:\\Users\\phuta\\AppData\\Local\\Temp\\ipykernel_41088\\3273420750.py:4: SettingWithCopyWarning: \n",
      "A value is trying to be set on a copy of a slice from a DataFrame.\n",
      "Try using .loc[row_indexer,col_indexer] = value instead\n",
      "\n",
      "See the caveats in the documentation: https://pandas.pydata.org/pandas-docs/stable/user_guide/indexing.html#returning-a-view-versus-a-copy\n",
      "  df1[\"friends\"] = df1[\"friends\"].apply(lambda x: eval(x) if isinstance(x, str) else x)\n"
     ]
    }
   ],
   "source": [
    "data=find_people_you_may_know(1)\n",
    "df4=pd.DataFrame(data,columns=[\"Mutual_friend_id\",\"Mutual_count\"])\n",
    "df4.to_excel(\"Mutual_friends.xlsx\",index=False)\n",
    "print(\"----Mutual friends printed in the file successfully----\")"
   ]
  }
 ],
 "metadata": {
  "kernelspec": {
   "display_name": "Python [conda env:base] *",
   "language": "python",
   "name": "conda-base-py"
  },
  "language_info": {
   "codemirror_mode": {
    "name": "ipython",
    "version": 3
   },
   "file_extension": ".py",
   "mimetype": "text/x-python",
   "name": "python",
   "nbconvert_exporter": "python",
   "pygments_lexer": "ipython3",
   "version": "3.13.5"
  }
 },
 "nbformat": 4,
 "nbformat_minor": 5
}
